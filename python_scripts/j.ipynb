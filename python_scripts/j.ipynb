{
 "cells": [
  {
   "cell_type": "markdown",
   "id": "0e3ca554-ed00-4560-9a25-a8e81259ad26",
   "metadata": {},
   "source": [
    "### Modified by mor.chalabi"
   ]
  },
  {
   "cell_type": "markdown",
   "id": "d80a51d4-730b-470d-9333-a097bef51207",
   "metadata": {
    "tags": []
   },
   "source": [
    "## Loading in data"
   ]
  },
  {
   "cell_type": "code",
   "execution_count": null,
   "id": "67fb6cad-faf8-44d1-abfa-f48018225336",
   "metadata": {
    "tags": []
   },
   "outputs": [],
   "source": [
    "import pandas as pd\n",
    "f = open('../../Misc/ContactTracingData.pckl', 'rb')\n",
    "interactions, target_stats = pd.read_pickle(f)\n",
    "f.close()"
   ]
  },
  {
   "cell_type": "markdown",
   "id": "97c01eac-4b9c-4282-a00c-36ea67fd47ac",
   "metadata": {
    "tags": []
   },
   "source": [
    "## Importing packages"
   ]
  },
  {
   "cell_type": "code",
   "execution_count": null,
   "id": "642cd820-4258-433c-bf21-19580e2d5457",
   "metadata": {
    "tags": []
   },
   "outputs": [],
   "source": [
    "import os\n",
    "import scanpy as sc\n",
    "import numpy as np\n",
    "import matplotlib.pyplot as plt\n",
    "import importlib\n",
    "import itertools\n",
    "import subprocess\n",
    "import multiprocessing\n",
    "from multiprocessing import Pool, freeze_support\n",
    "from functools import partial\n",
    "from itertools import product\n",
    "from kneed import KneeLocator\n",
    "from adjustText import adjust_text\n",
    "import statsmodels\n",
    "import sys\n",
    "import time\n",
    "import warnings\n",
    "from sklearn.preprocessing import scale\n",
    "from IPython.display import Image\n",
    "import j as ct\n",
    "\n",
    "os.chdir(\".\")"
   ]
  },
  {
   "cell_type": "markdown",
   "id": "adbdcdeb-3128-4974-84d2-4cd061e5beba",
   "metadata": {
    "tags": []
   },
   "source": [
    "## Circos plot"
   ]
  },
  {
   "cell_type": "code",
   "execution_count": null,
   "id": "3c4a5938-dfd9-4f18-acfc-41580658903c",
   "metadata": {
    "tags": []
   },
   "outputs": [],
   "source": [
    "importlib.reload(ct)\n",
    "\n",
    "!mkdir -p {'output'}\n",
    "\n",
    "# subsetting ####\n",
    "\n",
    "cell_types = target_stats['cell type'].unique()   # use this for all cell types available OR\n",
    "# cell_types = [  'cancer',\n",
    "                # 'B','plasma',\n",
    "                # 'CD4+_Tm','CD4+_Tex','Treg','effector_CD4+_T','CD8+_CD4+_T','CD8+_Tex','CD8+_Tm','NK',\n",
    "                # 'CD141+CD226+_cDC','CD1c+_cDC','CD197+_cDC','M2c-_M2a-like','M2-like','M2a-like','M1-like','M2d-like','M2c-like','monocyte','mast',\n",
    "                # 'myofibroblast','inflammatory_fibroblast','CXCL14_fibroblast','proaxonogenic_fibroblast','activated_stellate',\n",
    "                # 'EDNRB+_capillary','lymphatic','capillary'\n",
    "             # ]\n",
    "\n",
    "target_stats_sub = target_stats[target_stats['cell type'].isin(cell_types)]\n",
    "\n",
    "cell_types = target_stats_sub['cell type'].unique()\n",
    "\n",
    "# color assignment ####\n",
    "\n",
    "import seaborn as sns\n",
    "colors = sns.color_palette(\"Set3\", len(cell_types))\n",
    "cellType_colormap = {cell_types[i]: \"#{:02x}{:02x}{:02x}\".format(int(colors[i][0] * 255), int(colors[i][1] * 255), int(colors[i][2] * 255)) for i in range(len(cell_types))}\n",
    "print(cellType_colormap)\n",
    "\n",
    "# plotting ####\n",
    "\n",
    "target_stats_sub = target_stats_sub[(target_stats_sub['fracExp'] >= 0.03)]\n",
    "\n",
    "tmp = ct.make_circos_plot(interactions,# list of interactions\n",
    "                          target_stats_sub,\n",
    "                          numSigI1_stat = 'numSigI1_fdr05',\n",
    "                          links_min_ligand_absLog2FC = 0.4,\n",
    "                          links_max_ligand_fdr = 1e-2,\n",
    "                          links_min_numSigI1 = 10,\n",
    "                          order_col = 'cell_type_dc1_norm',\n",
    "                          outdir = 'output',\n",
    "                          colorMap = cellType_colormap,\n",
    "                          cellType_labels = True, labelSize = 30, labelParallel = False)\n",
    "\n",
    "Image('output/circos.png')"
   ]
  }
 ],
 "metadata": {
  "kernelspec": {
   "display_name": "Python 3 (ipykernel)",
   "language": "python",
   "name": "python3"
  },
  "language_info": {
   "codemirror_mode": {
    "name": "ipython",
    "version": 3
   },
   "file_extension": ".py",
   "mimetype": "text/x-python",
   "name": "python",
   "nbconvert_exporter": "python",
   "pygments_lexer": "ipython3",
   "version": "3.12.4"
  }
 },
 "nbformat": 4,
 "nbformat_minor": 5
}
